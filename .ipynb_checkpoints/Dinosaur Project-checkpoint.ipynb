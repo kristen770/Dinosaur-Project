{
 "cells": [
  {
   "cell_type": "markdown",
   "metadata": {},
   "source": [
    "# Dinosaur Project"
   ]
  },
  {
   "cell_type": "code",
   "execution_count": 1,
   "metadata": {},
   "outputs": [],
   "source": [
    "import pandas as pd \n",
    "import numpy as np \n",
    "import matplotlib.pyplot as plt "
   ]
  },
  {
   "cell_type": "markdown",
   "metadata": {},
   "source": [
    "# Inital Data Exploration & Cleaning\n",
    "A high level walk though of the dataset's contents and cleaning."
   ]
  },
  {
   "cell_type": "markdown",
   "metadata": {},
   "source": [
    "## Exploration"
   ]
  },
  {
   "cell_type": "code",
   "execution_count": 18,
   "metadata": {},
   "outputs": [
    {
     "data": {
      "text/html": [
       "<div>\n",
       "<style scoped>\n",
       "    .dataframe tbody tr th:only-of-type {\n",
       "        vertical-align: middle;\n",
       "    }\n",
       "\n",
       "    .dataframe tbody tr th {\n",
       "        vertical-align: top;\n",
       "    }\n",
       "\n",
       "    .dataframe thead th {\n",
       "        text-align: right;\n",
       "    }\n",
       "</style>\n",
       "<table border=\"1\" class=\"dataframe\">\n",
       "  <thead>\n",
       "    <tr style=\"text-align: right;\">\n",
       "      <th></th>\n",
       "      <th>Name</th>\n",
       "      <th>Period</th>\n",
       "      <th>Diet</th>\n",
       "      <th>Country</th>\n",
       "    </tr>\n",
       "  </thead>\n",
       "  <tbody>\n",
       "    <tr>\n",
       "      <th>0</th>\n",
       "      <td>Aardonyx</td>\n",
       "      <td>Jurassic</td>\n",
       "      <td>herbivore</td>\n",
       "      <td>South Africa</td>\n",
       "    </tr>\n",
       "    <tr>\n",
       "      <th>1</th>\n",
       "      <td>Abelisaurus</td>\n",
       "      <td>Cretaceous</td>\n",
       "      <td>carnivore</td>\n",
       "      <td>South America</td>\n",
       "    </tr>\n",
       "    <tr>\n",
       "      <th>2</th>\n",
       "      <td>Abrictosaurus</td>\n",
       "      <td>Jurassic</td>\n",
       "      <td>herbivore</td>\n",
       "      <td>South Africa</td>\n",
       "    </tr>\n",
       "    <tr>\n",
       "      <th>3</th>\n",
       "      <td>Abrosaurus</td>\n",
       "      <td>Jurassic</td>\n",
       "      <td>herbivore</td>\n",
       "      <td>China</td>\n",
       "    </tr>\n",
       "    <tr>\n",
       "      <th>4</th>\n",
       "      <td>Abydosaurus</td>\n",
       "      <td>Cretaceous</td>\n",
       "      <td>herbivore</td>\n",
       "      <td>North America</td>\n",
       "    </tr>\n",
       "    <tr>\n",
       "      <th>...</th>\n",
       "      <td>...</td>\n",
       "      <td>...</td>\n",
       "      <td>...</td>\n",
       "      <td>...</td>\n",
       "    </tr>\n",
       "    <tr>\n",
       "      <th>1149</th>\n",
       "      <td>Zizhongosaurus</td>\n",
       "      <td>Jurassic</td>\n",
       "      <td>herbivore</td>\n",
       "      <td>China</td>\n",
       "    </tr>\n",
       "    <tr>\n",
       "      <th>1150</th>\n",
       "      <td>Zuniceratops</td>\n",
       "      <td>Cretaceous</td>\n",
       "      <td>herbivore</td>\n",
       "      <td>North America</td>\n",
       "    </tr>\n",
       "    <tr>\n",
       "      <th>1151</th>\n",
       "      <td>Zuolong</td>\n",
       "      <td>Jurassic</td>\n",
       "      <td>carnivore</td>\n",
       "      <td>China</td>\n",
       "    </tr>\n",
       "    <tr>\n",
       "      <th>1152</th>\n",
       "      <td>Zupaysaurus</td>\n",
       "      <td>Triassic</td>\n",
       "      <td>carnivore</td>\n",
       "      <td>South America</td>\n",
       "    </tr>\n",
       "    <tr>\n",
       "      <th>1153</th>\n",
       "      <td>Zuul</td>\n",
       "      <td>Cretaceous</td>\n",
       "      <td>herbivore</td>\n",
       "      <td>North America</td>\n",
       "    </tr>\n",
       "  </tbody>\n",
       "</table>\n",
       "<p>1154 rows × 4 columns</p>\n",
       "</div>"
      ],
      "text/plain": [
       "                Name             Period       Diet        Country\n",
       "0           Aardonyx           Jurassic  herbivore   South Africa\n",
       "1        Abelisaurus  Cretaceous         carnivore  South America\n",
       "2      Abrictosaurus           Jurassic  herbivore   South Africa\n",
       "3         Abrosaurus           Jurassic  herbivore          China\n",
       "4        Abydosaurus         Cretaceous  herbivore  North America\n",
       "...              ...                ...        ...            ...\n",
       "1149  Zizhongosaurus           Jurassic  herbivore          China\n",
       "1150    Zuniceratops         Cretaceous  herbivore  North America\n",
       "1151         Zuolong           Jurassic  carnivore          China\n",
       "1152     Zupaysaurus           Triassic  carnivore  South America\n",
       "1153            Zuul         Cretaceous  herbivore  North America\n",
       "\n",
       "[1154 rows x 4 columns]"
      ]
     },
     "execution_count": 18,
     "metadata": {},
     "output_type": "execute_result"
    }
   ],
   "source": [
    "#read in data \n",
    "df = pd.read_csv('dinosaur.csv') \n",
    "df"
   ]
  },
  {
   "cell_type": "code",
   "execution_count": 19,
   "metadata": {},
   "outputs": [
    {
     "data": {
      "text/plain": [
       "Name       0\n",
       "Period     0\n",
       "Diet       0\n",
       "Country    0\n",
       "dtype: int64"
      ]
     },
     "execution_count": 19,
     "metadata": {},
     "output_type": "execute_result"
    }
   ],
   "source": [
    "#nan value check\n",
    "df.isna().sum()"
   ]
  },
  {
   "cell_type": "code",
   "execution_count": 20,
   "metadata": {
    "scrolled": true
   },
   "outputs": [
    {
     "name": "stdout",
     "output_type": "stream",
     "text": [
      "Number of unique values in the Name Column:  1143\n",
      "Number of unique values in the Period Column:  14\n",
      "Number of unique values in the Diet Column:  16\n",
      "Number of unique values in the Country Column:  104\n"
     ]
    }
   ],
   "source": [
    "#unique values in each column count\n",
    "print('Number of unique values in the Name Column: ', df['Name'].nunique()) \n",
    "print('Number of unique values in the Period Column: ', \n",
    "      df['Period'].nunique()) \n",
    "print('Number of unique values in the Diet Column: ', df['Diet'].nunique()) \n",
    "print('Number of unique values in the Country Column: ', \n",
    "      df['Country'].nunique())"
   ]
  },
  {
   "cell_type": "code",
   "execution_count": 21,
   "metadata": {},
   "outputs": [
    {
     "data": {
      "text/plain": [
       "['Jurassic',\n",
       " 'Cretaceous\\xa0\\xa0\\xa0\\xa0\\xa0\\xa0\\xa0',\n",
       " 'Cretaceous',\n",
       " 'Triassic',\n",
       " 'Jurassic/Cretaceous',\n",
       " 'Late Triassic',\n",
       " 'Late Cretaceous',\n",
       " 'Triassic or Jurassic',\n",
       " 'Middle Jurassic',\n",
       " 'Early Cretaceous',\n",
       " 'Early-Late Cretaceous',\n",
       " 'Early Jurassic',\n",
       " 'Triassic/Jurassic',\n",
       " '(unknown)']"
      ]
     },
     "execution_count": 21,
     "metadata": {},
     "output_type": "execute_result"
    }
   ],
   "source": [
    "df['Period'].unique().tolist()"
   ]
  },
  {
   "cell_type": "code",
   "execution_count": 23,
   "metadata": {},
   "outputs": [
    {
     "data": {
      "text/plain": [
       "['herbivore',\n",
       " 'carnivore',\n",
       " 'carnivore/insectivore',\n",
       " '(herbivore)',\n",
       " 'omnivore',\n",
       " 'herbivore/omnivore',\n",
       " '(unknown)',\n",
       " '(carnivore)',\n",
       " 'unknown',\n",
       " 'Carnivore',\n",
       " 'omnivorous',\n",
       " '?',\n",
       " 'Herbivore',\n",
       " 'carnivore/omnivore',\n",
       " 'carnivore?',\n",
       " 'insectivore']"
      ]
     },
     "execution_count": 23,
     "metadata": {},
     "output_type": "execute_result"
    }
   ],
   "source": [
    "df['Diet'].unique().tolist()"
   ]
  },
  {
   "cell_type": "code",
   "execution_count": 24,
   "metadata": {
    "scrolled": true
   },
   "outputs": [
    {
     "data": {
      "text/plain": [
       "['South Africa',\n",
       " 'South America',\n",
       " 'China',\n",
       " 'North America',\n",
       " 'England',\n",
       " 'Mongolia',\n",
       " 'Morocco',\n",
       " 'Spain',\n",
       " 'Egypt, Niger',\n",
       " 'France',\n",
       " 'South Africa, Lesotho, Zimbabwe',\n",
       " 'Niger',\n",
       " 'Hungary',\n",
       " 'Japan',\n",
       " 'Mongolia (& China?)',\n",
       " 'Tanzania, USA, & Portugal',\n",
       " 'Portugal, USA, & Tanzania',\n",
       " 'Portugal',\n",
       " 'India',\n",
       " 'Russia & China',\n",
       " 'Angola',\n",
       " 'Antarctica',\n",
       " 'Kazakhstan',\n",
       " 'Madagascar',\n",
       " 'Germany',\n",
       " 'Russia',\n",
       " 'Mongolia & China',\n",
       " 'China & Mongolia',\n",
       " 'Australia',\n",
       " 'China & South Korea',\n",
       " 'Tanzania',\n",
       " 'Egypt,Niger, Morocco, Algeria',\n",
       " 'Romania',\n",
       " 'Pakistan',\n",
       " 'Spain, Portugal, England',\n",
       " 'Netherlands',\n",
       " 'Uzbekistan',\n",
       " 'Czech Republic',\n",
       " 'Egypt, Niger, Algeria, Morocco',\n",
       " 'Portugal & USA',\n",
       " 'England, France, Switzerland, Morocco',\n",
       " 'China, Russia, & Mongolia(?)',\n",
       " 'Algeria',\n",
       " 'USA, South Africa, & Zimbabwe',\n",
       " 'Germany & France',\n",
       " 'Belgium',\n",
       " 'England, France, Spain, Portugal',\n",
       " 'South Korea',\n",
       " 'Morocco, Algeria, Egypt',\n",
       " 'Denmark',\n",
       " 'Portugal & Uzbekistan',\n",
       " 'South Africa, Zimbabwe, Lesotho',\n",
       " 'Lesotho',\n",
       " 'Kyrgyzstan',\n",
       " 'Mongolia & Uzbekistan',\n",
       " 'South Africa & China (?)',\n",
       " 'Croatia',\n",
       " 'Laos',\n",
       " 'England, Belgium, USA, France, Mongolia & Spain',\n",
       " 'Egypt',\n",
       " 'Thailand',\n",
       " 'Malawi',\n",
       " 'Korea',\n",
       " 'England, France',\n",
       " 'England and France',\n",
       " 'China, Mongolia & Thailand',\n",
       " 'China & Laos',\n",
       " 'Belgium, England, Germany',\n",
       " 'England, France, Austria, Romania, Belgium',\n",
       " 'Austria',\n",
       " 'Netherlands, Belgium',\n",
       " 'England & Portugal',\n",
       " 'Germany, France, Switzerland, Norway, & Greenland',\n",
       " 'China, Mongolia, Thailand (?), & Russia',\n",
       " 'Mongolia & Canada',\n",
       " 'Mongolia (& China\\xa0?)',\n",
       " 'Morocco, Niger & Tunisia',\n",
       " 'France, Czech Republic, Romania, Spain',\n",
       " 'Austria, Romania, France, Hungary',\n",
       " 'Italy',\n",
       " 'Mongolia, USA, Canada & China',\n",
       " 'Egypt & Morocco',\n",
       " 'Austria, France, Romania, Hungary',\n",
       " 'Tunisia',\n",
       " 'Portugal, Spain',\n",
       " 'Spain, Portugal',\n",
       " 'Poland',\n",
       " 'Zimbabwe',\n",
       " 'Formerly referred to Phaedrolosaurus.',\n",
       " 'A sauropod with an unusually long neck.',\n",
       " 'A troodontid.',\n",
       " 'A basal sauropodomorph.',\n",
       " 'It was once thought to walk on four legs. This is now unlikely.',\n",
       " 'A basal ceratopsian.',\n",
       " 'Probably a sauropod.',\n",
       " 'A large basal sauropodomorph.',\n",
       " 'The only anchiornithid to live in the Cretaceous.',\n",
       " 'This name was a nomen nudum for eight years and was only formally described in 2018.',\n",
       " 'A very large sauropod.',\n",
       " 'A mamenchisaurid sauropod.',\n",
       " 'Probably a relative of Jeholosaurus.',\n",
       " 'A small oviraptorosaur.',\n",
       " 'A hadrosauroid.',\n",
       " 'Possibly a titanosaur.']"
      ]
     },
     "execution_count": 24,
     "metadata": {},
     "output_type": "execute_result"
    }
   ],
   "source": [
    "df['Country'].unique().tolist()"
   ]
  },
  {
   "cell_type": "markdown",
   "metadata": {},
   "source": [
    "The data set contains: \n",
    "* 1154 rows \n",
    "* 4 columns - 'Name', 'Period', 'Diet', 'Country' \n",
    "* Name is a unique identifier that does not repeat \n",
    "* Period is a categorical column that contains either delineations within either the Jurassic, Cretaceous or Triassic Periods \n",
    "* Diet is a categorical column containing either herbivore, carnivore, omnivore, insectivore\n",
    "* Country contains a mixture of countries, continents and text data. Further examination is needed.\n",
    "\n",
    "No nan values, but unknown values, ? or duplicate but differently formatted data that will need to be identified and cleaned"
   ]
  },
  {
   "cell_type": "markdown",
   "metadata": {},
   "source": [
    "## Cleaning "
   ]
  },
  {
   "cell_type": "code",
   "execution_count": 34,
   "metadata": {
    "scrolled": false
   },
   "outputs": [],
   "source": [
    "#fix period column \n",
    "df['Period'] = df['Period'].replace('Cretaceous\\xa0\\xa0\\xa0\\xa0\\xa0\\xa0\\xa0',\n",
    "                                    'Cretaceous') \n",
    "\n",
    "#identified through external research \n",
    "df['Period'] = df['Period'].replace('(unknown)',\n",
    "                                    'Middle Jurassic')"
   ]
  },
  {
   "cell_type": "code",
   "execution_count": 35,
   "metadata": {
    "collapsed": true
   },
   "outputs": [
    {
     "data": {
      "text/plain": [
       "['Jurassic',\n",
       " 'Cretaceous',\n",
       " 'Triassic',\n",
       " 'Jurassic/Cretaceous',\n",
       " 'Late Triassic',\n",
       " 'Late Cretaceous',\n",
       " 'Triassic or Jurassic',\n",
       " 'Middle Jurassic',\n",
       " 'Early Cretaceous',\n",
       " 'Early-Late Cretaceous',\n",
       " 'Early Jurassic',\n",
       " 'Triassic/Jurassic']"
      ]
     },
     "execution_count": 35,
     "metadata": {},
     "output_type": "execute_result"
    }
   ],
   "source": [
    "df['Period'].unique().tolist()"
   ]
  },
  {
   "cell_type": "code",
   "execution_count": 40,
   "metadata": {
    "scrolled": true
   },
   "outputs": [],
   "source": [
    "#fix diet column \n",
    "df['Diet'] = df['Diet'].astype(str).apply(lambda x: x.strip('(')\n",
    "                                          .strip(')').lower()) "
   ]
  },
  {
   "cell_type": "markdown",
   "metadata": {},
   "source": [
    "Both dinosaurs listed in the dataset with a diet of ? have very little information (singular skeleton) and have been reclassified, both are believed to be carnivores, for this project I will classify them as such. "
   ]
  },
  {
   "cell_type": "code",
   "execution_count": 47,
   "metadata": {},
   "outputs": [],
   "source": [
    "#identified through external research \n",
    "df['Diet'] = df['Diet'].replace('?', 'carnivore').replace('carnivore?',\n",
    "                                                          'carnivore')"
   ]
  },
  {
   "cell_type": "code",
   "execution_count": 56,
   "metadata": {
    "collapsed": true
   },
   "outputs": [
    {
     "ename": "KeyError",
     "evalue": "'[596] not found in axis'",
     "output_type": "error",
     "traceback": [
      "\u001b[0;31m---------------------------------------------------------------------------\u001b[0m",
      "\u001b[0;31mKeyError\u001b[0m                                  Traceback (most recent call last)",
      "\u001b[0;32m<ipython-input-56-87433e993e3e>\u001b[0m in \u001b[0;36m<module>\u001b[0;34m\u001b[0m\n\u001b[1;32m      1\u001b[0m \u001b[0;31m#Lihkoelesauus - this is apparently an unconfirmed dinosaur so I will drop it\u001b[0m\u001b[0;34m\u001b[0m\u001b[0;34m\u001b[0m\u001b[0;34m\u001b[0m\u001b[0m\n\u001b[0;32m----> 2\u001b[0;31m \u001b[0mdf\u001b[0m \u001b[0;34m=\u001b[0m \u001b[0mdf\u001b[0m\u001b[0;34m.\u001b[0m\u001b[0mdrop\u001b[0m\u001b[0;34m(\u001b[0m\u001b[0;34m[\u001b[0m\u001b[0;36m596\u001b[0m\u001b[0;34m]\u001b[0m\u001b[0;34m,\u001b[0m \u001b[0maxis\u001b[0m\u001b[0;34m=\u001b[0m\u001b[0;36m0\u001b[0m\u001b[0;34m)\u001b[0m\u001b[0;34m\u001b[0m\u001b[0;34m\u001b[0m\u001b[0m\n\u001b[0m",
      "\u001b[0;32m~/opt/anaconda3/lib/python3.8/site-packages/pandas/core/frame.py\u001b[0m in \u001b[0;36mdrop\u001b[0;34m(self, labels, axis, index, columns, level, inplace, errors)\u001b[0m\n\u001b[1;32m   4303\u001b[0m                 \u001b[0mweight\u001b[0m  \u001b[0;36m1.0\u001b[0m     \u001b[0;36m0.8\u001b[0m\u001b[0;34m\u001b[0m\u001b[0;34m\u001b[0m\u001b[0m\n\u001b[1;32m   4304\u001b[0m         \"\"\"\n\u001b[0;32m-> 4305\u001b[0;31m         return super().drop(\n\u001b[0m\u001b[1;32m   4306\u001b[0m             \u001b[0mlabels\u001b[0m\u001b[0;34m=\u001b[0m\u001b[0mlabels\u001b[0m\u001b[0;34m,\u001b[0m\u001b[0;34m\u001b[0m\u001b[0;34m\u001b[0m\u001b[0m\n\u001b[1;32m   4307\u001b[0m             \u001b[0maxis\u001b[0m\u001b[0;34m=\u001b[0m\u001b[0maxis\u001b[0m\u001b[0;34m,\u001b[0m\u001b[0;34m\u001b[0m\u001b[0;34m\u001b[0m\u001b[0m\n",
      "\u001b[0;32m~/opt/anaconda3/lib/python3.8/site-packages/pandas/core/generic.py\u001b[0m in \u001b[0;36mdrop\u001b[0;34m(self, labels, axis, index, columns, level, inplace, errors)\u001b[0m\n\u001b[1;32m   4150\u001b[0m         \u001b[0;32mfor\u001b[0m \u001b[0maxis\u001b[0m\u001b[0;34m,\u001b[0m \u001b[0mlabels\u001b[0m \u001b[0;32min\u001b[0m \u001b[0maxes\u001b[0m\u001b[0;34m.\u001b[0m\u001b[0mitems\u001b[0m\u001b[0;34m(\u001b[0m\u001b[0;34m)\u001b[0m\u001b[0;34m:\u001b[0m\u001b[0;34m\u001b[0m\u001b[0;34m\u001b[0m\u001b[0m\n\u001b[1;32m   4151\u001b[0m             \u001b[0;32mif\u001b[0m \u001b[0mlabels\u001b[0m \u001b[0;32mis\u001b[0m \u001b[0;32mnot\u001b[0m \u001b[0;32mNone\u001b[0m\u001b[0;34m:\u001b[0m\u001b[0;34m\u001b[0m\u001b[0;34m\u001b[0m\u001b[0m\n\u001b[0;32m-> 4152\u001b[0;31m                 \u001b[0mobj\u001b[0m \u001b[0;34m=\u001b[0m \u001b[0mobj\u001b[0m\u001b[0;34m.\u001b[0m\u001b[0m_drop_axis\u001b[0m\u001b[0;34m(\u001b[0m\u001b[0mlabels\u001b[0m\u001b[0;34m,\u001b[0m \u001b[0maxis\u001b[0m\u001b[0;34m,\u001b[0m \u001b[0mlevel\u001b[0m\u001b[0;34m=\u001b[0m\u001b[0mlevel\u001b[0m\u001b[0;34m,\u001b[0m \u001b[0merrors\u001b[0m\u001b[0;34m=\u001b[0m\u001b[0merrors\u001b[0m\u001b[0;34m)\u001b[0m\u001b[0;34m\u001b[0m\u001b[0;34m\u001b[0m\u001b[0m\n\u001b[0m\u001b[1;32m   4153\u001b[0m \u001b[0;34m\u001b[0m\u001b[0m\n\u001b[1;32m   4154\u001b[0m         \u001b[0;32mif\u001b[0m \u001b[0minplace\u001b[0m\u001b[0;34m:\u001b[0m\u001b[0;34m\u001b[0m\u001b[0;34m\u001b[0m\u001b[0m\n",
      "\u001b[0;32m~/opt/anaconda3/lib/python3.8/site-packages/pandas/core/generic.py\u001b[0m in \u001b[0;36m_drop_axis\u001b[0;34m(self, labels, axis, level, errors)\u001b[0m\n\u001b[1;32m   4185\u001b[0m                 \u001b[0mnew_axis\u001b[0m \u001b[0;34m=\u001b[0m \u001b[0maxis\u001b[0m\u001b[0;34m.\u001b[0m\u001b[0mdrop\u001b[0m\u001b[0;34m(\u001b[0m\u001b[0mlabels\u001b[0m\u001b[0;34m,\u001b[0m \u001b[0mlevel\u001b[0m\u001b[0;34m=\u001b[0m\u001b[0mlevel\u001b[0m\u001b[0;34m,\u001b[0m \u001b[0merrors\u001b[0m\u001b[0;34m=\u001b[0m\u001b[0merrors\u001b[0m\u001b[0;34m)\u001b[0m\u001b[0;34m\u001b[0m\u001b[0;34m\u001b[0m\u001b[0m\n\u001b[1;32m   4186\u001b[0m             \u001b[0;32melse\u001b[0m\u001b[0;34m:\u001b[0m\u001b[0;34m\u001b[0m\u001b[0;34m\u001b[0m\u001b[0m\n\u001b[0;32m-> 4187\u001b[0;31m                 \u001b[0mnew_axis\u001b[0m \u001b[0;34m=\u001b[0m \u001b[0maxis\u001b[0m\u001b[0;34m.\u001b[0m\u001b[0mdrop\u001b[0m\u001b[0;34m(\u001b[0m\u001b[0mlabels\u001b[0m\u001b[0;34m,\u001b[0m \u001b[0merrors\u001b[0m\u001b[0;34m=\u001b[0m\u001b[0merrors\u001b[0m\u001b[0;34m)\u001b[0m\u001b[0;34m\u001b[0m\u001b[0;34m\u001b[0m\u001b[0m\n\u001b[0m\u001b[1;32m   4188\u001b[0m             \u001b[0mresult\u001b[0m \u001b[0;34m=\u001b[0m \u001b[0mself\u001b[0m\u001b[0;34m.\u001b[0m\u001b[0mreindex\u001b[0m\u001b[0;34m(\u001b[0m\u001b[0;34m**\u001b[0m\u001b[0;34m{\u001b[0m\u001b[0maxis_name\u001b[0m\u001b[0;34m:\u001b[0m \u001b[0mnew_axis\u001b[0m\u001b[0;34m}\u001b[0m\u001b[0;34m)\u001b[0m\u001b[0;34m\u001b[0m\u001b[0;34m\u001b[0m\u001b[0m\n\u001b[1;32m   4189\u001b[0m \u001b[0;34m\u001b[0m\u001b[0m\n",
      "\u001b[0;32m~/opt/anaconda3/lib/python3.8/site-packages/pandas/core/indexes/base.py\u001b[0m in \u001b[0;36mdrop\u001b[0;34m(self, labels, errors)\u001b[0m\n\u001b[1;32m   5589\u001b[0m         \u001b[0;32mif\u001b[0m \u001b[0mmask\u001b[0m\u001b[0;34m.\u001b[0m\u001b[0many\u001b[0m\u001b[0;34m(\u001b[0m\u001b[0;34m)\u001b[0m\u001b[0;34m:\u001b[0m\u001b[0;34m\u001b[0m\u001b[0;34m\u001b[0m\u001b[0m\n\u001b[1;32m   5590\u001b[0m             \u001b[0;32mif\u001b[0m \u001b[0merrors\u001b[0m \u001b[0;34m!=\u001b[0m \u001b[0;34m\"ignore\"\u001b[0m\u001b[0;34m:\u001b[0m\u001b[0;34m\u001b[0m\u001b[0;34m\u001b[0m\u001b[0m\n\u001b[0;32m-> 5591\u001b[0;31m                 \u001b[0;32mraise\u001b[0m \u001b[0mKeyError\u001b[0m\u001b[0;34m(\u001b[0m\u001b[0;34mf\"{labels[mask]} not found in axis\"\u001b[0m\u001b[0;34m)\u001b[0m\u001b[0;34m\u001b[0m\u001b[0;34m\u001b[0m\u001b[0m\n\u001b[0m\u001b[1;32m   5592\u001b[0m             \u001b[0mindexer\u001b[0m \u001b[0;34m=\u001b[0m \u001b[0mindexer\u001b[0m\u001b[0;34m[\u001b[0m\u001b[0;34m~\u001b[0m\u001b[0mmask\u001b[0m\u001b[0;34m]\u001b[0m\u001b[0;34m\u001b[0m\u001b[0;34m\u001b[0m\u001b[0m\n\u001b[1;32m   5593\u001b[0m         \u001b[0;32mreturn\u001b[0m \u001b[0mself\u001b[0m\u001b[0;34m.\u001b[0m\u001b[0mdelete\u001b[0m\u001b[0;34m(\u001b[0m\u001b[0mindexer\u001b[0m\u001b[0;34m)\u001b[0m\u001b[0;34m\u001b[0m\u001b[0;34m\u001b[0m\u001b[0m\n",
      "\u001b[0;31mKeyError\u001b[0m: '[596] not found in axis'"
     ]
    }
   ],
   "source": [
    "#Lihkoelesauus - this is apparently an unconfirmed dinosaur so I will drop it\n",
    "df = df.drop([596], axis=0)"
   ]
  },
  {
   "cell_type": "code",
   "execution_count": 57,
   "metadata": {},
   "outputs": [],
   "source": [
    "#externally researched classifications \n",
    "herbivores = [138, 237] \n",
    "carnivores = [395, 593, 916, 1036]\n",
    "insectivore= [1108, 1143] \n",
    "\n",
    "for dinosaur in herbivores: \n",
    "    df.loc[dinosaur, 'Diet'] = 'herbivore'  \n",
    "    \n",
    "for dinosaur in carnivores: \n",
    "    df.loc[dinosaur, 'Diet'] = 'carnivore'  \n",
    "    \n",
    "    \n",
    "for dinosaur in insectivore: \n",
    "    df.loc[dinosaur, 'Diet'] = 'insectivore' "
   ]
  },
  {
   "cell_type": "markdown",
   "metadata": {},
   "source": [
    "Finally I will reformat omnivorous to omnivore and generalize the categories if a dinosaur is both a herbivore and an omnivore then it is more generally able to be classified as an omnivore."
   ]
  },
  {
   "cell_type": "code",
   "execution_count": 61,
   "metadata": {},
   "outputs": [],
   "source": [
    "#identified through external research \n",
    "df['Diet'] = df['Diet'].replace('omnivorous', \n",
    "                                'omnivore').replace('carnivore/insectivore',\n",
    "                                                   'carnivore') \n",
    "df['Diet'] = df['Diet'].replace('herbivore/omnivore', \n",
    "                                'omnivore').replace('carnivore/omnivore',\n",
    "                                                   'carnivore')"
   ]
  },
  {
   "cell_type": "code",
   "execution_count": null,
   "metadata": {},
   "outputs": [],
   "source": []
  }
 ],
 "metadata": {
  "kernelspec": {
   "display_name": "Python 3",
   "language": "python",
   "name": "python3"
  },
  "language_info": {
   "codemirror_mode": {
    "name": "ipython",
    "version": 3
   },
   "file_extension": ".py",
   "mimetype": "text/x-python",
   "name": "python",
   "nbconvert_exporter": "python",
   "pygments_lexer": "ipython3",
   "version": "3.8.3"
  },
  "toc": {
   "base_numbering": 1,
   "nav_menu": {},
   "number_sections": true,
   "sideBar": true,
   "skip_h1_title": false,
   "title_cell": "Table of Contents",
   "title_sidebar": "Contents",
   "toc_cell": false,
   "toc_position": {},
   "toc_section_display": true,
   "toc_window_display": false
  }
 },
 "nbformat": 4,
 "nbformat_minor": 4
}
