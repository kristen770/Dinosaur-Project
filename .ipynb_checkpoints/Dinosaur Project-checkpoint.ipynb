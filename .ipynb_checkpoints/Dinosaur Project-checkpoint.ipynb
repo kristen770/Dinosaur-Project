{
 "cells": [
  {
   "cell_type": "markdown",
   "metadata": {
    "heading_collapsed": true
   },
   "source": [
    "# Dinosaur Project"
   ]
  },
  {
   "cell_type": "code",
   "execution_count": 228,
   "metadata": {
    "hidden": true
   },
   "outputs": [],
   "source": [
    "import pandas as pd \n",
    "import numpy as np \n",
    "import matplotlib.pyplot as plt  \n",
    "%matplotlib inline\n",
    "import seaborn as sns"
   ]
  },
  {
   "cell_type": "markdown",
   "metadata": {
    "heading_collapsed": true
   },
   "source": [
    "# Inital Data Exploration & Cleaning\n",
    "A high level walk though of the dataset's contents and cleaning."
   ]
  },
  {
   "cell_type": "markdown",
   "metadata": {
    "hidden": true
   },
   "source": [
    "## Exploration"
   ]
  },
  {
   "cell_type": "code",
   "execution_count": 185,
   "metadata": {
    "hidden": true
   },
   "outputs": [
    {
     "data": {
      "text/html": [
       "<div>\n",
       "<style scoped>\n",
       "    .dataframe tbody tr th:only-of-type {\n",
       "        vertical-align: middle;\n",
       "    }\n",
       "\n",
       "    .dataframe tbody tr th {\n",
       "        vertical-align: top;\n",
       "    }\n",
       "\n",
       "    .dataframe thead th {\n",
       "        text-align: right;\n",
       "    }\n",
       "</style>\n",
       "<table border=\"1\" class=\"dataframe\">\n",
       "  <thead>\n",
       "    <tr style=\"text-align: right;\">\n",
       "      <th></th>\n",
       "      <th>Name</th>\n",
       "      <th>Period</th>\n",
       "      <th>Diet</th>\n",
       "      <th>Country</th>\n",
       "    </tr>\n",
       "  </thead>\n",
       "  <tbody>\n",
       "    <tr>\n",
       "      <th>0</th>\n",
       "      <td>Aardonyx</td>\n",
       "      <td>Jurassic</td>\n",
       "      <td>herbivore</td>\n",
       "      <td>South Africa</td>\n",
       "    </tr>\n",
       "    <tr>\n",
       "      <th>1</th>\n",
       "      <td>Abelisaurus</td>\n",
       "      <td>Cretaceous</td>\n",
       "      <td>carnivore</td>\n",
       "      <td>South America</td>\n",
       "    </tr>\n",
       "    <tr>\n",
       "      <th>2</th>\n",
       "      <td>Abrictosaurus</td>\n",
       "      <td>Jurassic</td>\n",
       "      <td>herbivore</td>\n",
       "      <td>South Africa</td>\n",
       "    </tr>\n",
       "    <tr>\n",
       "      <th>3</th>\n",
       "      <td>Abrosaurus</td>\n",
       "      <td>Jurassic</td>\n",
       "      <td>herbivore</td>\n",
       "      <td>China</td>\n",
       "    </tr>\n",
       "    <tr>\n",
       "      <th>4</th>\n",
       "      <td>Abydosaurus</td>\n",
       "      <td>Cretaceous</td>\n",
       "      <td>herbivore</td>\n",
       "      <td>North America</td>\n",
       "    </tr>\n",
       "    <tr>\n",
       "      <th>...</th>\n",
       "      <td>...</td>\n",
       "      <td>...</td>\n",
       "      <td>...</td>\n",
       "      <td>...</td>\n",
       "    </tr>\n",
       "    <tr>\n",
       "      <th>1149</th>\n",
       "      <td>Zizhongosaurus</td>\n",
       "      <td>Jurassic</td>\n",
       "      <td>herbivore</td>\n",
       "      <td>China</td>\n",
       "    </tr>\n",
       "    <tr>\n",
       "      <th>1150</th>\n",
       "      <td>Zuniceratops</td>\n",
       "      <td>Cretaceous</td>\n",
       "      <td>herbivore</td>\n",
       "      <td>North America</td>\n",
       "    </tr>\n",
       "    <tr>\n",
       "      <th>1151</th>\n",
       "      <td>Zuolong</td>\n",
       "      <td>Jurassic</td>\n",
       "      <td>carnivore</td>\n",
       "      <td>China</td>\n",
       "    </tr>\n",
       "    <tr>\n",
       "      <th>1152</th>\n",
       "      <td>Zupaysaurus</td>\n",
       "      <td>Triassic</td>\n",
       "      <td>carnivore</td>\n",
       "      <td>South America</td>\n",
       "    </tr>\n",
       "    <tr>\n",
       "      <th>1153</th>\n",
       "      <td>Zuul</td>\n",
       "      <td>Cretaceous</td>\n",
       "      <td>herbivore</td>\n",
       "      <td>North America</td>\n",
       "    </tr>\n",
       "  </tbody>\n",
       "</table>\n",
       "<p>1154 rows × 4 columns</p>\n",
       "</div>"
      ],
      "text/plain": [
       "                Name             Period       Diet        Country\n",
       "0           Aardonyx           Jurassic  herbivore   South Africa\n",
       "1        Abelisaurus  Cretaceous         carnivore  South America\n",
       "2      Abrictosaurus           Jurassic  herbivore   South Africa\n",
       "3         Abrosaurus           Jurassic  herbivore          China\n",
       "4        Abydosaurus         Cretaceous  herbivore  North America\n",
       "...              ...                ...        ...            ...\n",
       "1149  Zizhongosaurus           Jurassic  herbivore          China\n",
       "1150    Zuniceratops         Cretaceous  herbivore  North America\n",
       "1151         Zuolong           Jurassic  carnivore          China\n",
       "1152     Zupaysaurus           Triassic  carnivore  South America\n",
       "1153            Zuul         Cretaceous  herbivore  North America\n",
       "\n",
       "[1154 rows x 4 columns]"
      ]
     },
     "execution_count": 185,
     "metadata": {},
     "output_type": "execute_result"
    }
   ],
   "source": [
    "#read in data \n",
    "df = pd.read_csv('dinosaur.csv') \n",
    "df"
   ]
  },
  {
   "cell_type": "code",
   "execution_count": 186,
   "metadata": {
    "hidden": true
   },
   "outputs": [
    {
     "data": {
      "text/plain": [
       "Name       0\n",
       "Period     0\n",
       "Diet       0\n",
       "Country    0\n",
       "dtype: int64"
      ]
     },
     "execution_count": 186,
     "metadata": {},
     "output_type": "execute_result"
    }
   ],
   "source": [
    "#nan value check\n",
    "df.isna().sum()"
   ]
  },
  {
   "cell_type": "code",
   "execution_count": 187,
   "metadata": {
    "hidden": true,
    "scrolled": true
   },
   "outputs": [
    {
     "name": "stdout",
     "output_type": "stream",
     "text": [
      "Number of unique values in the Name Column:  1143\n",
      "Number of unique values in the Period Column:  14\n",
      "Number of unique values in the Diet Column:  16\n",
      "Number of unique values in the Country Column:  104\n"
     ]
    }
   ],
   "source": [
    "#unique values in each column count\n",
    "print('Number of unique values in the Name Column: ', df['Name'].nunique()) \n",
    "print('Number of unique values in the Period Column: ', \n",
    "      df['Period'].nunique()) \n",
    "print('Number of unique values in the Diet Column: ', df['Diet'].nunique()) \n",
    "print('Number of unique values in the Country Column: ', \n",
    "      df['Country'].nunique())"
   ]
  },
  {
   "cell_type": "code",
   "execution_count": 188,
   "metadata": {
    "hidden": true
   },
   "outputs": [
    {
     "data": {
      "text/plain": [
       "['Jurassic',\n",
       " 'Cretaceous\\xa0\\xa0\\xa0\\xa0\\xa0\\xa0\\xa0',\n",
       " 'Cretaceous',\n",
       " 'Triassic',\n",
       " 'Jurassic/Cretaceous',\n",
       " 'Late Triassic',\n",
       " 'Late Cretaceous',\n",
       " 'Triassic or Jurassic',\n",
       " 'Middle Jurassic',\n",
       " 'Early Cretaceous',\n",
       " 'Early-Late Cretaceous',\n",
       " 'Early Jurassic',\n",
       " 'Triassic/Jurassic',\n",
       " '(unknown)']"
      ]
     },
     "execution_count": 188,
     "metadata": {},
     "output_type": "execute_result"
    }
   ],
   "source": [
    "df['Period'].unique().tolist()"
   ]
  },
  {
   "cell_type": "code",
   "execution_count": 189,
   "metadata": {
    "hidden": true
   },
   "outputs": [
    {
     "data": {
      "text/plain": [
       "['herbivore',\n",
       " 'carnivore',\n",
       " 'carnivore/insectivore',\n",
       " '(herbivore)',\n",
       " 'omnivore',\n",
       " 'herbivore/omnivore',\n",
       " '(unknown)',\n",
       " '(carnivore)',\n",
       " 'unknown',\n",
       " 'Carnivore',\n",
       " 'omnivorous',\n",
       " '?',\n",
       " 'Herbivore',\n",
       " 'carnivore/omnivore',\n",
       " 'carnivore?',\n",
       " 'insectivore']"
      ]
     },
     "execution_count": 189,
     "metadata": {},
     "output_type": "execute_result"
    }
   ],
   "source": [
    "df['Diet'].unique().tolist()"
   ]
  },
  {
   "cell_type": "code",
   "execution_count": 190,
   "metadata": {
    "hidden": true,
    "scrolled": true
   },
   "outputs": [
    {
     "data": {
      "text/plain": [
       "['South Africa',\n",
       " 'South America',\n",
       " 'China',\n",
       " 'North America',\n",
       " 'England',\n",
       " 'Mongolia',\n",
       " 'Morocco',\n",
       " 'Spain',\n",
       " 'Egypt, Niger',\n",
       " 'France',\n",
       " 'South Africa, Lesotho, Zimbabwe',\n",
       " 'Niger',\n",
       " 'Hungary',\n",
       " 'Japan',\n",
       " 'Mongolia (& China?)',\n",
       " 'Tanzania, USA, & Portugal',\n",
       " 'Portugal, USA, & Tanzania',\n",
       " 'Portugal',\n",
       " 'India',\n",
       " 'Russia & China',\n",
       " 'Angola',\n",
       " 'Antarctica',\n",
       " 'Kazakhstan',\n",
       " 'Madagascar',\n",
       " 'Germany',\n",
       " 'Russia',\n",
       " 'Mongolia & China',\n",
       " 'China & Mongolia',\n",
       " 'Australia',\n",
       " 'China & South Korea',\n",
       " 'Tanzania',\n",
       " 'Egypt,Niger, Morocco, Algeria',\n",
       " 'Romania',\n",
       " 'Pakistan',\n",
       " 'Spain, Portugal, England',\n",
       " 'Netherlands',\n",
       " 'Uzbekistan',\n",
       " 'Czech Republic',\n",
       " 'Egypt, Niger, Algeria, Morocco',\n",
       " 'Portugal & USA',\n",
       " 'England, France, Switzerland, Morocco',\n",
       " 'China, Russia, & Mongolia(?)',\n",
       " 'Algeria',\n",
       " 'USA, South Africa, & Zimbabwe',\n",
       " 'Germany & France',\n",
       " 'Belgium',\n",
       " 'England, France, Spain, Portugal',\n",
       " 'South Korea',\n",
       " 'Morocco, Algeria, Egypt',\n",
       " 'Denmark',\n",
       " 'Portugal & Uzbekistan',\n",
       " 'South Africa, Zimbabwe, Lesotho',\n",
       " 'Lesotho',\n",
       " 'Kyrgyzstan',\n",
       " 'Mongolia & Uzbekistan',\n",
       " 'South Africa & China (?)',\n",
       " 'Croatia',\n",
       " 'Laos',\n",
       " 'England, Belgium, USA, France, Mongolia & Spain',\n",
       " 'Egypt',\n",
       " 'Thailand',\n",
       " 'Malawi',\n",
       " 'Korea',\n",
       " 'England, France',\n",
       " 'England and France',\n",
       " 'China, Mongolia & Thailand',\n",
       " 'China & Laos',\n",
       " 'Belgium, England, Germany',\n",
       " 'England, France, Austria, Romania, Belgium',\n",
       " 'Austria',\n",
       " 'Netherlands, Belgium',\n",
       " 'England & Portugal',\n",
       " 'Germany, France, Switzerland, Norway, & Greenland',\n",
       " 'China, Mongolia, Thailand (?), & Russia',\n",
       " 'Mongolia & Canada',\n",
       " 'Mongolia (& China\\xa0?)',\n",
       " 'Morocco, Niger & Tunisia',\n",
       " 'France, Czech Republic, Romania, Spain',\n",
       " 'Austria, Romania, France, Hungary',\n",
       " 'Italy',\n",
       " 'Mongolia, USA, Canada & China',\n",
       " 'Egypt & Morocco',\n",
       " 'Austria, France, Romania, Hungary',\n",
       " 'Tunisia',\n",
       " 'Portugal, Spain',\n",
       " 'Spain, Portugal',\n",
       " 'Poland',\n",
       " 'Zimbabwe',\n",
       " 'Formerly referred to Phaedrolosaurus.',\n",
       " 'A sauropod with an unusually long neck.',\n",
       " 'A troodontid.',\n",
       " 'A basal sauropodomorph.',\n",
       " 'It was once thought to walk on four legs. This is now unlikely.',\n",
       " 'A basal ceratopsian.',\n",
       " 'Probably a sauropod.',\n",
       " 'A large basal sauropodomorph.',\n",
       " 'The only anchiornithid to live in the Cretaceous.',\n",
       " 'This name was a nomen nudum for eight years and was only formally described in 2018.',\n",
       " 'A very large sauropod.',\n",
       " 'A mamenchisaurid sauropod.',\n",
       " 'Probably a relative of Jeholosaurus.',\n",
       " 'A small oviraptorosaur.',\n",
       " 'A hadrosauroid.',\n",
       " 'Possibly a titanosaur.']"
      ]
     },
     "execution_count": 190,
     "metadata": {},
     "output_type": "execute_result"
    }
   ],
   "source": [
    "df['Country'].unique().tolist()"
   ]
  },
  {
   "cell_type": "markdown",
   "metadata": {
    "hidden": true
   },
   "source": [
    "The data set contains: \n",
    "* 1154 rows \n",
    "* 4 columns - 'Name', 'Period', 'Diet', 'Country' \n",
    "* Name is a unique identifier that does not repeat \n",
    "* Period is a categorical column that contains either delineations within either the Jurassic, Cretaceous or Triassic Periods \n",
    "* Diet is a categorical column containing either herbivore, carnivore, omnivore, insectivore\n",
    "* Country contains a mixture of countries, continents and text data. Further examination is needed.\n",
    "\n",
    "No nan values, but unknown values, ? or duplicate but differently formatted data that will need to be identified and cleaned"
   ]
  },
  {
   "cell_type": "markdown",
   "metadata": {
    "hidden": true
   },
   "source": [
    "## Cleaning "
   ]
  },
  {
   "cell_type": "code",
   "execution_count": 191,
   "metadata": {
    "hidden": true,
    "scrolled": false
   },
   "outputs": [],
   "source": [
    "#fix period column \n",
    "df['Period'] = df['Period'].replace('Cretaceous\\xa0\\xa0\\xa0\\xa0\\xa0\\xa0\\xa0',\n",
    "                                    'Cretaceous') \n",
    "\n",
    "#identified through external research \n",
    "df['Period'] = df['Period'].replace('(unknown)',\n",
    "                                    'Middle Jurassic')"
   ]
  },
  {
   "cell_type": "code",
   "execution_count": 192,
   "metadata": {
    "hidden": true
   },
   "outputs": [
    {
     "data": {
      "text/plain": [
       "['Jurassic',\n",
       " 'Cretaceous',\n",
       " 'Triassic',\n",
       " 'Jurassic/Cretaceous',\n",
       " 'Late Triassic',\n",
       " 'Late Cretaceous',\n",
       " 'Triassic or Jurassic',\n",
       " 'Middle Jurassic',\n",
       " 'Early Cretaceous',\n",
       " 'Early-Late Cretaceous',\n",
       " 'Early Jurassic',\n",
       " 'Triassic/Jurassic']"
      ]
     },
     "execution_count": 192,
     "metadata": {},
     "output_type": "execute_result"
    }
   ],
   "source": [
    "df['Period'].unique().tolist()"
   ]
  },
  {
   "cell_type": "code",
   "execution_count": 193,
   "metadata": {
    "hidden": true,
    "scrolled": true
   },
   "outputs": [],
   "source": [
    "#fix diet column \n",
    "df['Diet'] = df['Diet'].astype(str).apply(lambda x: x.strip('(')\n",
    "                                          .strip(')').lower()) "
   ]
  },
  {
   "cell_type": "markdown",
   "metadata": {
    "hidden": true
   },
   "source": [
    "Both dinosaurs listed in the dataset with a diet of ? have very little information (singular skeleton) and have been reclassified, both are believed to be carnivores, for this project I will classify them as such. "
   ]
  },
  {
   "cell_type": "code",
   "execution_count": 194,
   "metadata": {
    "hidden": true
   },
   "outputs": [],
   "source": [
    "#identified through external research \n",
    "df['Diet'] = df['Diet'].replace('?', 'carnivore').replace('carnivore?',\n",
    "                                                          'carnivore')"
   ]
  },
  {
   "cell_type": "code",
   "execution_count": 195,
   "metadata": {
    "hidden": true
   },
   "outputs": [],
   "source": [
    "#Lihkoelesauus - this is apparently an unconfirmed dinosaur so I will drop it\n",
    "df = df.drop([596], axis=0)"
   ]
  },
  {
   "cell_type": "code",
   "execution_count": 196,
   "metadata": {
    "hidden": true
   },
   "outputs": [],
   "source": [
    "#externally researched classifications \n",
    "herbivores = [138, 237] \n",
    "carnivores = [395, 593, 916, 1036]\n",
    "insectivore= [1108, 1143] \n",
    "\n",
    "for dinosaur in herbivores: \n",
    "    df.loc[dinosaur, 'Diet'] = 'herbivore'  \n",
    "    \n",
    "for dinosaur in carnivores: \n",
    "    df.loc[dinosaur, 'Diet'] = 'carnivore'  \n",
    "    \n",
    "    \n",
    "for dinosaur in insectivore: \n",
    "    df.loc[dinosaur, 'Diet'] = 'insectivore' "
   ]
  },
  {
   "cell_type": "markdown",
   "metadata": {
    "hidden": true
   },
   "source": [
    "Finally I will reformat omnivorous to omnivore and generalize the categories if a dinosaur is both a herbivore and an omnivore then it is more generally able to be classified as an omnivore."
   ]
  },
  {
   "cell_type": "code",
   "execution_count": 197,
   "metadata": {
    "hidden": true
   },
   "outputs": [],
   "source": [
    "#identified through external research \n",
    "df['Diet'] = df['Diet'].replace('omnivorous', \n",
    "                                'omnivore').replace('carnivore/insectivore',\n",
    "                                                   'carnivore') \n",
    "df['Diet'] = df['Diet'].replace('herbivore/omnivore', \n",
    "                                'omnivore').replace('carnivore/omnivore',\n",
    "                                                   'carnivore')"
   ]
  },
  {
   "cell_type": "markdown",
   "metadata": {
    "hidden": true
   },
   "source": [
    "The country column is a very messy column with a lot of multi country listings, unknowns, text data and continents. I think the best approach is to create a new feature of continents."
   ]
  },
  {
   "cell_type": "code",
   "execution_count": 198,
   "metadata": {
    "hidden": true
   },
   "outputs": [],
   "source": [
    "#replace text data with externally researched country  \n",
    "chinese_dinos= ['Formerly referred to Phaedrolosaurus.', \n",
    "                'A sauropod with an unusually long neck.', 'A troodontid.', \n",
    "                'A basal sauropodomorph.', \n",
    "                'It was once thought to walk on four legs. This is now unlikely.',  \n",
    "                'A basal ceratopsian.', 'Probably a sauropod.', \n",
    "                 'A large basal sauropodomorph.',\n",
    "                'The only anchiornithid to live in the Cretaceous.', \n",
    "                'This name was a nomen nudum for eight years and was only formally described in 2018.', \n",
    "                'A very large sauropod.', 'A mamenchisaurid sauropod.', \n",
    "                'Probably a relative of Jeholosaurus.', \n",
    "                'A small oviraptorosaur.', 'A hadrosauroid.',\n",
    "                'Possibly a titanosaur.'] \n",
    "\n",
    "for dinosaur in chinese_dinos: \n",
    "    df['Country'] = df['Country'].replace(dinosaur, 'China') "
   ]
  },
  {
   "cell_type": "code",
   "execution_count": 199,
   "metadata": {
    "hidden": true
   },
   "outputs": [],
   "source": [
    "#grouped list of countries by continent\n",
    "asia=['China', 'Mongolia', 'Japan', 'Mongolia (& China?)', 'India', \n",
    "      'Russia & China', 'Kazakhstan',  'Russia', 'Mongolia & China', \n",
    "      'China & Mongolia', 'China & South Korea', \n",
    "      'China, Russia, & Mongolia(?)', 'South Korea', 'Kyrgyzstan', \n",
    "      'Mongolia & Uzbekistan', 'Thailand', 'Korea', \n",
    "      'China, Mongolia & Thailand', 'China & Laos', \n",
    "      'China, Mongolia, Thailand (?), & Russia', 'Mongolia (& China\\xa0?)',]\n",
    "africa=['South Africa', 'Morocco', 'Egypt, Niger', \n",
    "        'South Africa, Lesotho, Zimbabwe', 'Niger', 'Angola', 'Madagascar', \n",
    "       'Tanzania', 'Egypt,Niger, Morocco, Algeria', \n",
    "        'Egypt, Niger, Algeria, Morocco', 'Algeria', \n",
    "        'Morocco, Algeria, Egypt', 'South Africa, Zimbabwe, Lesotho', \n",
    "        'Lesotho', 'Laos', 'Egypt', 'Malawi',  'Morocco, Niger & Tunisia', \n",
    "        'Egypt & Morocco', 'Tunisia', 'Zimbabwe']\n",
    "europe=['England', 'Spain', 'France', 'Portugal', 'Hungary', 'Germany',\n",
    "        'Romania', 'Spain, Portugal, England', 'Netherlands', 'Pakistan', \n",
    "        'Uzbekistan', 'Czech Republic', 'Germany & France', 'Belgium', \n",
    "        'England, France, Spain, Portugal', 'Denmark',\n",
    "        'Portugal & Uzbekistan', 'England, France', 'England and France', \n",
    "        'Belgium, England, Germany', \n",
    "        'England, France, Austria, Romania, Belgium', 'Austria', \n",
    "        'Netherlands, Belgium', 'England & Portugal', 'Portugal, Spain', \n",
    "        'Spain, Portugal', 'Poland', 'Croatia', \n",
    "        'Germany, France, Switzerland, Norway, & Greenland', \n",
    "        'France, Czech Republic, Romania, Spain', \n",
    "        'Austria, Romania, France, Hungary', 'Italy', \n",
    "        'Austria, France, Romania, Hungary'] \n",
    "cross_continental=['Tanzania, USA, & Portugal', 'Portugal, USA, & Tanzania', \n",
    "                   'Portugal & USA', 'England, France, Switzerland, Morocco',\n",
    "                   'USA, South Africa, & Zimbabwe', \n",
    "                   'South Africa & China (?)',\n",
    "                   'England, Belgium, USA, France, Mongolia & Spain', \n",
    "                   'Mongolia & Canada',  'Mongolia, USA, Canada & China']"
   ]
  },
  {
   "cell_type": "code",
   "execution_count": 200,
   "metadata": {
    "hidden": true,
    "scrolled": false
   },
   "outputs": [
    {
     "data": {
      "text/plain": [
       "['Africa',\n",
       " 'South America',\n",
       " 'Asia',\n",
       " 'North America',\n",
       " 'Europe',\n",
       " 'Multiple Continents',\n",
       " 'Antarctica',\n",
       " 'Australia']"
      ]
     },
     "execution_count": 200,
     "metadata": {},
     "output_type": "execute_result"
    }
   ],
   "source": [
    "#transopose country into continent to allow for less grouping \n",
    "df['Continent'] = df['Country']\n",
    "\n",
    "df.loc[df['Continent'].isin(asia), 'Continent'] = 'Asia' \n",
    "df.loc[df['Continent'].isin(africa), 'Continent'] = 'Africa'\n",
    "df.loc[df['Continent'].isin(europe), 'Continent'] = 'Europe'\n",
    "df.loc[df['Continent'].isin(cross_continental),\n",
    "       'Continent'] = 'Multiple Continents'\n",
    "\n",
    "df['Continent'].unique().tolist()"
   ]
  },
  {
   "cell_type": "code",
   "execution_count": 201,
   "metadata": {
    "hidden": true,
    "scrolled": false
   },
   "outputs": [
    {
     "data": {
      "text/plain": [
       "['Jurassic',\n",
       " 'Cretaceous',\n",
       " 'Triassic',\n",
       " 'Jurassic/Cretaceous',\n",
       " 'Late Triassic',\n",
       " 'Late Cretaceous',\n",
       " 'Triassic or Jurassic',\n",
       " 'Middle Jurassic',\n",
       " 'Early Cretaceous',\n",
       " 'Early-Late Cretaceous',\n",
       " 'Early Jurassic',\n",
       " 'Triassic/Jurassic']"
      ]
     },
     "execution_count": 201,
     "metadata": {},
     "output_type": "execute_result"
    }
   ],
   "source": [
    "df['Period'].unique().tolist()"
   ]
  },
  {
   "cell_type": "markdown",
   "metadata": {
    "heading_collapsed": true
   },
   "source": [
    "# EDA  \n",
    "Identification of trends and data distribution within the dataset."
   ]
  },
  {
   "cell_type": "markdown",
   "metadata": {
    "hidden": true
   },
   "source": [
    "## Question 1: What are the patterns of distribution for Period type within the data?"
   ]
  },
  {
   "cell_type": "code",
   "execution_count": 209,
   "metadata": {
    "hidden": true
   },
   "outputs": [
    {
     "data": {
      "text/html": [
       "<div>\n",
       "<style scoped>\n",
       "    .dataframe tbody tr th:only-of-type {\n",
       "        vertical-align: middle;\n",
       "    }\n",
       "\n",
       "    .dataframe tbody tr th {\n",
       "        vertical-align: top;\n",
       "    }\n",
       "\n",
       "    .dataframe thead th {\n",
       "        text-align: right;\n",
       "    }\n",
       "</style>\n",
       "<table border=\"1\" class=\"dataframe\">\n",
       "  <thead>\n",
       "    <tr style=\"text-align: right;\">\n",
       "      <th></th>\n",
       "      <th>Name</th>\n",
       "      <th>Period</th>\n",
       "      <th>Diet</th>\n",
       "      <th>Country</th>\n",
       "    </tr>\n",
       "    <tr>\n",
       "      <th>Continent</th>\n",
       "      <th></th>\n",
       "      <th></th>\n",
       "      <th></th>\n",
       "      <th></th>\n",
       "    </tr>\n",
       "  </thead>\n",
       "  <tbody>\n",
       "    <tr>\n",
       "      <th>Africa</th>\n",
       "      <td>85</td>\n",
       "      <td>85</td>\n",
       "      <td>85</td>\n",
       "      <td>85</td>\n",
       "    </tr>\n",
       "    <tr>\n",
       "      <th>Antarctica</th>\n",
       "      <td>6</td>\n",
       "      <td>6</td>\n",
       "      <td>6</td>\n",
       "      <td>6</td>\n",
       "    </tr>\n",
       "    <tr>\n",
       "      <th>Asia</th>\n",
       "      <td>404</td>\n",
       "      <td>404</td>\n",
       "      <td>404</td>\n",
       "      <td>404</td>\n",
       "    </tr>\n",
       "    <tr>\n",
       "      <th>Australia</th>\n",
       "      <td>23</td>\n",
       "      <td>23</td>\n",
       "      <td>23</td>\n",
       "      <td>23</td>\n",
       "    </tr>\n",
       "    <tr>\n",
       "      <th>Europe</th>\n",
       "      <td>200</td>\n",
       "      <td>200</td>\n",
       "      <td>200</td>\n",
       "      <td>200</td>\n",
       "    </tr>\n",
       "    <tr>\n",
       "      <th>Multiple Continents</th>\n",
       "      <td>12</td>\n",
       "      <td>12</td>\n",
       "      <td>12</td>\n",
       "      <td>12</td>\n",
       "    </tr>\n",
       "    <tr>\n",
       "      <th>North America</th>\n",
       "      <td>274</td>\n",
       "      <td>274</td>\n",
       "      <td>274</td>\n",
       "      <td>274</td>\n",
       "    </tr>\n",
       "    <tr>\n",
       "      <th>South America</th>\n",
       "      <td>149</td>\n",
       "      <td>149</td>\n",
       "      <td>149</td>\n",
       "      <td>149</td>\n",
       "    </tr>\n",
       "  </tbody>\n",
       "</table>\n",
       "</div>"
      ],
      "text/plain": [
       "                     Name  Period  Diet  Country\n",
       "Continent                                       \n",
       "Africa                 85      85    85       85\n",
       "Antarctica              6       6     6        6\n",
       "Asia                  404     404   404      404\n",
       "Australia              23      23    23       23\n",
       "Europe                200     200   200      200\n",
       "Multiple Continents    12      12    12       12\n",
       "North America         274     274   274      274\n",
       "South America         149     149   149      149"
      ]
     },
     "execution_count": 209,
     "metadata": {},
     "output_type": "execute_result"
    }
   ],
   "source": [
    "df.groupby('Continent').count()"
   ]
  },
  {
   "cell_type": "code",
   "execution_count": 219,
   "metadata": {
    "hidden": true
   },
   "outputs": [
    {
     "data": {
      "text/html": [
       "<div>\n",
       "<style scoped>\n",
       "    .dataframe tbody tr th:only-of-type {\n",
       "        vertical-align: middle;\n",
       "    }\n",
       "\n",
       "    .dataframe tbody tr th {\n",
       "        vertical-align: top;\n",
       "    }\n",
       "\n",
       "    .dataframe thead th {\n",
       "        text-align: right;\n",
       "    }\n",
       "</style>\n",
       "<table border=\"1\" class=\"dataframe\">\n",
       "  <thead>\n",
       "    <tr style=\"text-align: right;\">\n",
       "      <th></th>\n",
       "      <th>Name</th>\n",
       "      <th>Period</th>\n",
       "      <th>Diet</th>\n",
       "      <th>Continent</th>\n",
       "    </tr>\n",
       "    <tr>\n",
       "      <th>Country</th>\n",
       "      <th></th>\n",
       "      <th></th>\n",
       "      <th></th>\n",
       "      <th></th>\n",
       "    </tr>\n",
       "  </thead>\n",
       "  <tbody>\n",
       "    <tr>\n",
       "      <th>China</th>\n",
       "      <td>235</td>\n",
       "      <td>235</td>\n",
       "      <td>235</td>\n",
       "      <td>235</td>\n",
       "    </tr>\n",
       "    <tr>\n",
       "      <th>China &amp; Laos</th>\n",
       "      <td>1</td>\n",
       "      <td>1</td>\n",
       "      <td>1</td>\n",
       "      <td>1</td>\n",
       "    </tr>\n",
       "    <tr>\n",
       "      <th>China &amp; Mongolia</th>\n",
       "      <td>2</td>\n",
       "      <td>2</td>\n",
       "      <td>2</td>\n",
       "      <td>2</td>\n",
       "    </tr>\n",
       "    <tr>\n",
       "      <th>China &amp; South Korea</th>\n",
       "      <td>1</td>\n",
       "      <td>1</td>\n",
       "      <td>1</td>\n",
       "      <td>1</td>\n",
       "    </tr>\n",
       "    <tr>\n",
       "      <th>China, Mongolia &amp; Thailand</th>\n",
       "      <td>1</td>\n",
       "      <td>1</td>\n",
       "      <td>1</td>\n",
       "      <td>1</td>\n",
       "    </tr>\n",
       "    <tr>\n",
       "      <th>China, Mongolia, Thailand (?), &amp; Russia</th>\n",
       "      <td>1</td>\n",
       "      <td>1</td>\n",
       "      <td>1</td>\n",
       "      <td>1</td>\n",
       "    </tr>\n",
       "    <tr>\n",
       "      <th>China, Russia, &amp; Mongolia(?)</th>\n",
       "      <td>1</td>\n",
       "      <td>1</td>\n",
       "      <td>1</td>\n",
       "      <td>1</td>\n",
       "    </tr>\n",
       "    <tr>\n",
       "      <th>India</th>\n",
       "      <td>25</td>\n",
       "      <td>25</td>\n",
       "      <td>25</td>\n",
       "      <td>25</td>\n",
       "    </tr>\n",
       "    <tr>\n",
       "      <th>Japan</th>\n",
       "      <td>12</td>\n",
       "      <td>12</td>\n",
       "      <td>12</td>\n",
       "      <td>12</td>\n",
       "    </tr>\n",
       "    <tr>\n",
       "      <th>Kazakhstan</th>\n",
       "      <td>5</td>\n",
       "      <td>5</td>\n",
       "      <td>5</td>\n",
       "      <td>5</td>\n",
       "    </tr>\n",
       "    <tr>\n",
       "      <th>Korea</th>\n",
       "      <td>1</td>\n",
       "      <td>1</td>\n",
       "      <td>1</td>\n",
       "      <td>1</td>\n",
       "    </tr>\n",
       "    <tr>\n",
       "      <th>Kyrgyzstan</th>\n",
       "      <td>2</td>\n",
       "      <td>2</td>\n",
       "      <td>2</td>\n",
       "      <td>2</td>\n",
       "    </tr>\n",
       "    <tr>\n",
       "      <th>Mongolia</th>\n",
       "      <td>82</td>\n",
       "      <td>82</td>\n",
       "      <td>82</td>\n",
       "      <td>82</td>\n",
       "    </tr>\n",
       "    <tr>\n",
       "      <th>Mongolia &amp; China</th>\n",
       "      <td>6</td>\n",
       "      <td>6</td>\n",
       "      <td>6</td>\n",
       "      <td>6</td>\n",
       "    </tr>\n",
       "    <tr>\n",
       "      <th>Mongolia &amp; Uzbekistan</th>\n",
       "      <td>1</td>\n",
       "      <td>1</td>\n",
       "      <td>1</td>\n",
       "      <td>1</td>\n",
       "    </tr>\n",
       "    <tr>\n",
       "      <th>Mongolia (&amp; China?)</th>\n",
       "      <td>1</td>\n",
       "      <td>1</td>\n",
       "      <td>1</td>\n",
       "      <td>1</td>\n",
       "    </tr>\n",
       "    <tr>\n",
       "      <th>Mongolia (&amp; China ?)</th>\n",
       "      <td>1</td>\n",
       "      <td>1</td>\n",
       "      <td>1</td>\n",
       "      <td>1</td>\n",
       "    </tr>\n",
       "    <tr>\n",
       "      <th>Russia</th>\n",
       "      <td>9</td>\n",
       "      <td>9</td>\n",
       "      <td>9</td>\n",
       "      <td>9</td>\n",
       "    </tr>\n",
       "    <tr>\n",
       "      <th>Russia &amp; China</th>\n",
       "      <td>1</td>\n",
       "      <td>1</td>\n",
       "      <td>1</td>\n",
       "      <td>1</td>\n",
       "    </tr>\n",
       "    <tr>\n",
       "      <th>South Korea</th>\n",
       "      <td>5</td>\n",
       "      <td>5</td>\n",
       "      <td>5</td>\n",
       "      <td>5</td>\n",
       "    </tr>\n",
       "    <tr>\n",
       "      <th>Thailand</th>\n",
       "      <td>11</td>\n",
       "      <td>11</td>\n",
       "      <td>11</td>\n",
       "      <td>11</td>\n",
       "    </tr>\n",
       "  </tbody>\n",
       "</table>\n",
       "</div>"
      ],
      "text/plain": [
       "                                         Name  Period  Diet  Continent\n",
       "Country                                                               \n",
       "China                                     235     235   235        235\n",
       "China & Laos                                1       1     1          1\n",
       "China & Mongolia                            2       2     2          2\n",
       "China & South Korea                         1       1     1          1\n",
       "China, Mongolia & Thailand                  1       1     1          1\n",
       "China, Mongolia, Thailand (?), & Russia     1       1     1          1\n",
       "China, Russia, & Mongolia(?)                1       1     1          1\n",
       "India                                      25      25    25         25\n",
       "Japan                                      12      12    12         12\n",
       "Kazakhstan                                  5       5     5          5\n",
       "Korea                                       1       1     1          1\n",
       "Kyrgyzstan                                  2       2     2          2\n",
       "Mongolia                                   82      82    82         82\n",
       "Mongolia & China                            6       6     6          6\n",
       "Mongolia & Uzbekistan                       1       1     1          1\n",
       "Mongolia (& China?)                         1       1     1          1\n",
       "Mongolia (& China ?)                        1       1     1          1\n",
       "Russia                                      9       9     9          9\n",
       "Russia & China                              1       1     1          1\n",
       "South Korea                                 5       5     5          5\n",
       "Thailand                                   11      11    11         11"
      ]
     },
     "execution_count": 219,
     "metadata": {},
     "output_type": "execute_result"
    }
   ],
   "source": [
    "df.loc[df['Continent'] == 'Asia'].groupby('Country').count()"
   ]
  },
  {
   "cell_type": "markdown",
   "metadata": {
    "hidden": true
   },
   "source": [
    "Asia is largely over represented within this dataset with the vast majority of those from China. While there has been major excavation work in China, leading to a so called ['dinosaur boom'](https://www.smithsonianmag.com/science-nature/great-chinese-dino-boom-180968745/) this is probably an indication of class imbalance within the dataset rather than a true representation of the distribution of dinosaurs."
   ]
  },
  {
   "cell_type": "code",
   "execution_count": 254,
   "metadata": {
    "hidden": true,
    "scrolled": true
   },
   "outputs": [
    {
     "data": {
      "image/png": "[encoded data removed]",
      "text/plain": [
       "<Figure size 432x288 with 1 Axes>"
      ]
     },
     "metadata": {
      "needs_background": "light"
     },
     "output_type": "display_data"
    }
   ],
   "source": [
    "#grap distribution\n",
    "df.groupby('Continent').Name.count().plot.barh() \n",
    "plt.title('Distribution of Found Dinosaurs by Continent') \n",
    "plt.xlabel('Number of Dinosaurs')\n",
    "plt.show()"
   ]
  },
  {
   "cell_type": "code",
   "execution_count": 208,
   "metadata": {
    "hidden": true,
    "scrolled": true
   },
   "outputs": [
    {
     "data": {
      "text/html": [
       "<div>\n",
       "<style scoped>\n",
       "    .dataframe tbody tr th:only-of-type {\n",
       "        vertical-align: middle;\n",
       "    }\n",
       "\n",
       "    .dataframe tbody tr th {\n",
       "        vertical-align: top;\n",
       "    }\n",
       "\n",
       "    .dataframe thead th {\n",
       "        text-align: right;\n",
       "    }\n",
       "</style>\n",
       "<table border=\"1\" class=\"dataframe\">\n",
       "  <thead>\n",
       "    <tr style=\"text-align: right;\">\n",
       "      <th></th>\n",
       "      <th></th>\n",
       "      <th>Name</th>\n",
       "      <th>Diet</th>\n",
       "      <th>Country</th>\n",
       "    </tr>\n",
       "    <tr>\n",
       "      <th>Period</th>\n",
       "      <th>Continent</th>\n",
       "      <th></th>\n",
       "      <th></th>\n",
       "      <th></th>\n",
       "    </tr>\n",
       "  </thead>\n",
       "  <tbody>\n",
       "    <tr>\n",
       "      <th rowspan=\"7\" valign=\"top\">Cretaceous</th>\n",
       "      <th>Africa</th>\n",
       "      <td>30</td>\n",
       "      <td>30</td>\n",
       "      <td>30</td>\n",
       "    </tr>\n",
       "    <tr>\n",
       "      <th>Asia</th>\n",
       "      <td>279</td>\n",
       "      <td>279</td>\n",
       "      <td>279</td>\n",
       "    </tr>\n",
       "    <tr>\n",
       "      <th>Australia</th>\n",
       "      <td>1</td>\n",
       "      <td>1</td>\n",
       "      <td>1</td>\n",
       "    </tr>\n",
       "    <tr>\n",
       "      <th>Europe</th>\n",
       "      <td>123</td>\n",
       "      <td>123</td>\n",
       "      <td>123</td>\n",
       "    </tr>\n",
       "    <tr>\n",
       "      <th>Multiple Continents</th>\n",
       "      <td>3</td>\n",
       "      <td>3</td>\n",
       "      <td>3</td>\n",
       "    </tr>\n",
       "    <tr>\n",
       "      <th>North America</th>\n",
       "      <td>211</td>\n",
       "      <td>211</td>\n",
       "      <td>211</td>\n",
       "    </tr>\n",
       "    <tr>\n",
       "      <th>South America</th>\n",
       "      <td>117</td>\n",
       "      <td>117</td>\n",
       "      <td>117</td>\n",
       "    </tr>\n",
       "    <tr>\n",
       "      <th>Early Cretaceous</th>\n",
       "      <th>Australia</th>\n",
       "      <td>16</td>\n",
       "      <td>16</td>\n",
       "      <td>16</td>\n",
       "    </tr>\n",
       "    <tr>\n",
       "      <th rowspan=\"2\" valign=\"top\">Early Jurassic</th>\n",
       "      <th>Antarctica</th>\n",
       "      <td>2</td>\n",
       "      <td>2</td>\n",
       "      <td>2</td>\n",
       "    </tr>\n",
       "    <tr>\n",
       "      <th>Asia</th>\n",
       "      <td>5</td>\n",
       "      <td>5</td>\n",
       "      <td>5</td>\n",
       "    </tr>\n",
       "    <tr>\n",
       "      <th>Early-Late Cretaceous</th>\n",
       "      <th>Australia</th>\n",
       "      <td>1</td>\n",
       "      <td>1</td>\n",
       "      <td>1</td>\n",
       "    </tr>\n",
       "    <tr>\n",
       "      <th rowspan=\"6\" valign=\"top\">Jurassic</th>\n",
       "      <th>Africa</th>\n",
       "      <td>37</td>\n",
       "      <td>37</td>\n",
       "      <td>37</td>\n",
       "    </tr>\n",
       "    <tr>\n",
       "      <th>Asia</th>\n",
       "      <td>95</td>\n",
       "      <td>95</td>\n",
       "      <td>95</td>\n",
       "    </tr>\n",
       "    <tr>\n",
       "      <th>Europe</th>\n",
       "      <td>57</td>\n",
       "      <td>57</td>\n",
       "      <td>57</td>\n",
       "    </tr>\n",
       "    <tr>\n",
       "      <th>Multiple Continents</th>\n",
       "      <td>9</td>\n",
       "      <td>9</td>\n",
       "      <td>9</td>\n",
       "    </tr>\n",
       "    <tr>\n",
       "      <th>North America</th>\n",
       "      <td>53</td>\n",
       "      <td>53</td>\n",
       "      <td>53</td>\n",
       "    </tr>\n",
       "    <tr>\n",
       "      <th>South America</th>\n",
       "      <td>14</td>\n",
       "      <td>14</td>\n",
       "      <td>14</td>\n",
       "    </tr>\n",
       "    <tr>\n",
       "      <th rowspan=\"4\" valign=\"top\">Jurassic/Cretaceous</th>\n",
       "      <th>Africa</th>\n",
       "      <td>1</td>\n",
       "      <td>1</td>\n",
       "      <td>1</td>\n",
       "    </tr>\n",
       "    <tr>\n",
       "      <th>Asia</th>\n",
       "      <td>2</td>\n",
       "      <td>2</td>\n",
       "      <td>2</td>\n",
       "    </tr>\n",
       "    <tr>\n",
       "      <th>Europe</th>\n",
       "      <td>3</td>\n",
       "      <td>3</td>\n",
       "      <td>3</td>\n",
       "    </tr>\n",
       "    <tr>\n",
       "      <th>North America</th>\n",
       "      <td>1</td>\n",
       "      <td>1</td>\n",
       "      <td>1</td>\n",
       "    </tr>\n",
       "    <tr>\n",
       "      <th rowspan=\"4\" valign=\"top\">Late Cretaceous</th>\n",
       "      <th>Africa</th>\n",
       "      <td>6</td>\n",
       "      <td>6</td>\n",
       "      <td>6</td>\n",
       "    </tr>\n",
       "    <tr>\n",
       "      <th>Antarctica</th>\n",
       "      <td>4</td>\n",
       "      <td>4</td>\n",
       "      <td>4</td>\n",
       "    </tr>\n",
       "    <tr>\n",
       "      <th>Asia</th>\n",
       "      <td>17</td>\n",
       "      <td>17</td>\n",
       "      <td>17</td>\n",
       "    </tr>\n",
       "    <tr>\n",
       "      <th>Australia</th>\n",
       "      <td>3</td>\n",
       "      <td>3</td>\n",
       "      <td>3</td>\n",
       "    </tr>\n",
       "    <tr>\n",
       "      <th>Late Triassic</th>\n",
       "      <th>Asia</th>\n",
       "      <td>3</td>\n",
       "      <td>3</td>\n",
       "      <td>3</td>\n",
       "    </tr>\n",
       "    <tr>\n",
       "      <th rowspan=\"3\" valign=\"top\">Middle Jurassic</th>\n",
       "      <th>Africa</th>\n",
       "      <td>2</td>\n",
       "      <td>2</td>\n",
       "      <td>2</td>\n",
       "    </tr>\n",
       "    <tr>\n",
       "      <th>Asia</th>\n",
       "      <td>1</td>\n",
       "      <td>1</td>\n",
       "      <td>1</td>\n",
       "    </tr>\n",
       "    <tr>\n",
       "      <th>Australia</th>\n",
       "      <td>2</td>\n",
       "      <td>2</td>\n",
       "      <td>2</td>\n",
       "    </tr>\n",
       "    <tr>\n",
       "      <th rowspan=\"5\" valign=\"top\">Triassic</th>\n",
       "      <th>Africa</th>\n",
       "      <td>7</td>\n",
       "      <td>7</td>\n",
       "      <td>7</td>\n",
       "    </tr>\n",
       "    <tr>\n",
       "      <th>Asia</th>\n",
       "      <td>1</td>\n",
       "      <td>1</td>\n",
       "      <td>1</td>\n",
       "    </tr>\n",
       "    <tr>\n",
       "      <th>Europe</th>\n",
       "      <td>16</td>\n",
       "      <td>16</td>\n",
       "      <td>16</td>\n",
       "    </tr>\n",
       "    <tr>\n",
       "      <th>North America</th>\n",
       "      <td>8</td>\n",
       "      <td>8</td>\n",
       "      <td>8</td>\n",
       "    </tr>\n",
       "    <tr>\n",
       "      <th>South America</th>\n",
       "      <td>17</td>\n",
       "      <td>17</td>\n",
       "      <td>17</td>\n",
       "    </tr>\n",
       "    <tr>\n",
       "      <th rowspan=\"2\" valign=\"top\">Triassic or Jurassic</th>\n",
       "      <th>Africa</th>\n",
       "      <td>2</td>\n",
       "      <td>2</td>\n",
       "      <td>2</td>\n",
       "    </tr>\n",
       "    <tr>\n",
       "      <th>South America</th>\n",
       "      <td>1</td>\n",
       "      <td>1</td>\n",
       "      <td>1</td>\n",
       "    </tr>\n",
       "    <tr>\n",
       "      <th rowspan=\"3\" valign=\"top\">Triassic/Jurassic</th>\n",
       "      <th>Asia</th>\n",
       "      <td>1</td>\n",
       "      <td>1</td>\n",
       "      <td>1</td>\n",
       "    </tr>\n",
       "    <tr>\n",
       "      <th>Europe</th>\n",
       "      <td>1</td>\n",
       "      <td>1</td>\n",
       "      <td>1</td>\n",
       "    </tr>\n",
       "    <tr>\n",
       "      <th>North America</th>\n",
       "      <td>1</td>\n",
       "      <td>1</td>\n",
       "      <td>1</td>\n",
       "    </tr>\n",
       "  </tbody>\n",
       "</table>\n",
       "</div>"
      ],
      "text/plain": [
       "                                           Name  Diet  Country\n",
       "Period                Continent                               \n",
       "Cretaceous            Africa                 30    30       30\n",
       "                      Asia                  279   279      279\n",
       "                      Australia               1     1        1\n",
       "                      Europe                123   123      123\n",
       "                      Multiple Continents     3     3        3\n",
       "                      North America         211   211      211\n",
       "                      South America         117   117      117\n",
       "Early Cretaceous      Australia              16    16       16\n",
       "Early Jurassic        Antarctica              2     2        2\n",
       "                      Asia                    5     5        5\n",
       "Early-Late Cretaceous Australia               1     1        1\n",
       "Jurassic              Africa                 37    37       37\n",
       "                      Asia                   95    95       95\n",
       "                      Europe                 57    57       57\n",
       "                      Multiple Continents     9     9        9\n",
       "                      North America          53    53       53\n",
       "                      South America          14    14       14\n",
       "Jurassic/Cretaceous   Africa                  1     1        1\n",
       "                      Asia                    2     2        2\n",
       "                      Europe                  3     3        3\n",
       "                      North America           1     1        1\n",
       "Late Cretaceous       Africa                  6     6        6\n",
       "                      Antarctica              4     4        4\n",
       "                      Asia                   17    17       17\n",
       "                      Australia               3     3        3\n",
       "Late Triassic         Asia                    3     3        3\n",
       "Middle Jurassic       Africa                  2     2        2\n",
       "                      Asia                    1     1        1\n",
       "                      Australia               2     2        2\n",
       "Triassic              Africa                  7     7        7\n",
       "                      Asia                    1     1        1\n",
       "                      Europe                 16    16       16\n",
       "                      North America           8     8        8\n",
       "                      South America          17    17       17\n",
       "Triassic or Jurassic  Africa                  2     2        2\n",
       "                      South America           1     1        1\n",
       "Triassic/Jurassic     Asia                    1     1        1\n",
       "                      Europe                  1     1        1\n",
       "                      North America           1     1        1"
      ]
     },
     "execution_count": 208,
     "metadata": {},
     "output_type": "execute_result"
    }
   ],
   "source": [
    "df.groupby(['Period', 'Continent']).count()"
   ]
  },
  {
   "cell_type": "code",
   "execution_count": 273,
   "metadata": {
    "hidden": true
   },
   "outputs": [
    {
     "data": {
      "image/png": "[encoded data removed]",
      "text/plain": [
       "<Figure size 720x576 with 1 Axes>"
      ]
     },
     "metadata": {
      "needs_background": "light"
     },
     "output_type": "display_data"
    }
   ],
   "source": [
    "#grap distribution  \n",
    "df.groupby(['Period']).Continent.value_counts().unstack(0) \\\n",
    "                                                .plot.barh(figsize = (10,8)) \n",
    "plt.title('Distribution of Found Dinosaurs by Period Per Continent')  \n",
    "plt.legend(bbox_to_anchor=(1.05, 1.0), loc='upper left')\n",
    "plt.xlabel('Number of Dinosaurs') \n",
    "plt.show()"
   ]
  },
  {
   "cell_type": "markdown",
   "metadata": {
    "hidden": true
   },
   "source": [
    "The majority of dinosaurs found in Asia (which represents the majority of dinosaurs in our dataset) are from the Cretaceous period. The least represented dinosaurs across continents comes from the the Triassic period with 16 and 17 dinosaurs found in Europe and Asia respectively during this time. The Triassic is the earliest period to in difficulties in finding fossils this old as well perhaps that a less diverse range of dinosaurs were present globally during their initial rise to dominance. "
   ]
  },
  {
   "cell_type": "markdown",
   "metadata": {
    "hidden": true
   },
   "source": [
    "## Question 2: What are the patterns of distribution for Diet type within the data?"
   ]
  },
  {
   "cell_type": "code",
   "execution_count": 275,
   "metadata": {
    "hidden": true
   },
   "outputs": [
    {
     "data": {
      "image/png": "[encoded data removed]",
      "text/plain": [
       "<Figure size 432x288 with 1 Axes>"
      ]
     },
     "metadata": {
      "needs_background": "light"
     },
     "output_type": "display_data"
    }
   ],
   "source": [
    "#grap distribution\n",
    "df.groupby('Diet').Name.count().plot.barh() \n",
    "plt.title('Distribution of Dinosaur Diet') \n",
    "plt.xlabel('Number of Dinosaurs')\n",
    "plt.show()"
   ]
  },
  {
   "cell_type": "markdown",
   "metadata": {
    "hidden": true
   },
   "source": [
    "The vast majority, double the other dietary options combined!"
   ]
  },
  {
   "cell_type": "code",
   "execution_count": 277,
   "metadata": {
    "hidden": true
   },
   "outputs": [
    {
     "data": {
      "text/html": [
       "<div>\n",
       "<style scoped>\n",
       "    .dataframe tbody tr th:only-of-type {\n",
       "        vertical-align: middle;\n",
       "    }\n",
       "\n",
       "    .dataframe tbody tr th {\n",
       "        vertical-align: top;\n",
       "    }\n",
       "\n",
       "    .dataframe thead th {\n",
       "        text-align: right;\n",
       "    }\n",
       "</style>\n",
       "<table border=\"1\" class=\"dataframe\">\n",
       "  <thead>\n",
       "    <tr style=\"text-align: right;\">\n",
       "      <th></th>\n",
       "      <th>Name</th>\n",
       "      <th>Period</th>\n",
       "      <th>Country</th>\n",
       "      <th>Continent</th>\n",
       "    </tr>\n",
       "    <tr>\n",
       "      <th>Diet</th>\n",
       "      <th></th>\n",
       "      <th></th>\n",
       "      <th></th>\n",
       "      <th></th>\n",
       "    </tr>\n",
       "  </thead>\n",
       "  <tbody>\n",
       "    <tr>\n",
       "      <th>carnivore</th>\n",
       "      <td>121</td>\n",
       "      <td>121</td>\n",
       "      <td>121</td>\n",
       "      <td>121</td>\n",
       "    </tr>\n",
       "    <tr>\n",
       "      <th>herbivore</th>\n",
       "      <td>237</td>\n",
       "      <td>237</td>\n",
       "      <td>237</td>\n",
       "      <td>237</td>\n",
       "    </tr>\n",
       "    <tr>\n",
       "      <th>insectivore</th>\n",
       "      <td>2</td>\n",
       "      <td>2</td>\n",
       "      <td>2</td>\n",
       "      <td>2</td>\n",
       "    </tr>\n",
       "    <tr>\n",
       "      <th>omnivore</th>\n",
       "      <td>44</td>\n",
       "      <td>44</td>\n",
       "      <td>44</td>\n",
       "      <td>44</td>\n",
       "    </tr>\n",
       "  </tbody>\n",
       "</table>\n",
       "</div>"
      ],
      "text/plain": [
       "             Name  Period  Country  Continent\n",
       "Diet                                         \n",
       "carnivore     121     121      121        121\n",
       "herbivore     237     237      237        237\n",
       "insectivore     2       2        2          2\n",
       "omnivore       44      44       44         44"
      ]
     },
     "execution_count": 277,
     "metadata": {},
     "output_type": "execute_result"
    }
   ],
   "source": [
    "#diet in asia \n",
    "df.loc[df['Continent'] == 'Asia'].groupby('Diet').count()"
   ]
  },
  {
   "cell_type": "markdown",
   "metadata": {
    "hidden": true
   },
   "source": [
    "That huge percentage of herbivores is represented primarily in Asia which accounts for 237 of the total count! "
   ]
  },
  {
   "cell_type": "code",
   "execution_count": 280,
   "metadata": {
    "hidden": true
   },
   "outputs": [
    {
     "data": {
      "image/png": "[encoded data removed]",
      "text/plain": [
       "<Figure size 720x576 with 1 Axes>"
      ]
     },
     "metadata": {
      "needs_background": "light"
     },
     "output_type": "display_data"
    }
   ],
   "source": [
    "#diet by period\n",
    "df.groupby(['Diet']).Period.value_counts().unstack(0) \\\n",
    "                                                .plot.barh(figsize = (10,8)) \n",
    "plt.title('Distribution of Found Dinosaurs Diet by Period')  \n",
    "plt.legend(bbox_to_anchor=(1.05, 1.0), loc='upper left')\n",
    "plt.xlabel('Number of Dinosaurs') \n",
    "plt.show()"
   ]
  },
  {
   "cell_type": "markdown",
   "metadata": {
    "hidden": true
   },
   "source": [
    "The vast majority of the herbivores are from the Cretaceous period dinosaurs discovered in Asia, however there is a larger number of herbivores than carnivores in the Jurassic time period as well. "
   ]
  },
  {
   "cell_type": "markdown",
   "metadata": {},
   "source": [
    "# Classifying "
   ]
  },
  {
   "cell_type": "code",
   "execution_count": null,
   "metadata": {},
   "outputs": [],
   "source": [
    "#class impalance "
   ]
  }
 ],
 "metadata": {
  "kernelspec": {
   "display_name": "Python 3",
   "language": "python",
   "name": "python3"
  },
  "language_info": {
   "codemirror_mode": {
    "name": "ipython",
    "version": 3
   },
   "file_extension": ".py",
   "mimetype": "text/x-python",
   "name": "python",
   "nbconvert_exporter": "python",
   "pygments_lexer": "ipython3",
   "version": "3.8.3"
  },
  "toc": {
   "base_numbering": 1,
   "nav_menu": {},
   "number_sections": true,
   "sideBar": true,
   "skip_h1_title": false,
   "title_cell": "Table of Contents",
   "title_sidebar": "Contents",
   "toc_cell": false,
   "toc_position": {},
   "toc_section_display": true,
   "toc_window_display": false
  }
 },
 "nbformat": 4,
 "nbformat_minor": 4
}
